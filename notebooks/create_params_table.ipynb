{
 "cells": [
  {
   "cell_type": "code",
   "execution_count": 1,
   "id": "11c98e65",
   "metadata": {},
   "outputs": [],
   "source": [
    "import pandas as pd\n",
    "import numpy as np\n",
    "from src.utils import setup_folders, return_static_features, return_dynamic_features\n",
    "from src.visualization.evaluate import calculate_metric_horizons, calculate_metric_horizon_windows, calculate_metric_horizons_all_models\n",
    "from src.visualization.visualize import plot_horizons, plot_scatterplot, plot_test_day, plot_mean_std_error_multiple_models, plot_ridges_multiple_models\n",
    "from src.features.build_features import build_features, build_features_LSTM\n",
    "import json"
   ]
  },
  {
   "cell_type": "code",
   "execution_count": 2,
   "id": "c36813e9",
   "metadata": {},
   "outputs": [],
   "source": [
    "def load_param_json(plant, model, tech):\n",
    "    # agr\n",
    "    filename = f'../src/models/deterministic/params/params_{model}_{plant}.json'\n",
    "    f = open(filename)\n",
    "    params = json.load(f)\n",
    "    f.close()\n",
    "    \n",
    "    return(params[tech])"
   ]
  },
  {
   "cell_type": "code",
   "execution_count": 3,
   "id": "c0fed075",
   "metadata": {},
   "outputs": [],
   "source": [
    "params = load_param_json(\"HPP1\", \"LSTM\", 'wind')"
   ]
  },
  {
   "cell_type": "code",
   "execution_count": 4,
   "id": "ced4b90a",
   "metadata": {},
   "outputs": [
    {
     "data": {
      "text/plain": [
       "['activation',\n",
       " 'n_lag',\n",
       " 'epochs',\n",
       " 'batch_size',\n",
       " 'lr',\n",
       " 'neurons_l1',\n",
       " 'neurons_l2',\n",
       " 'neurons_l3']"
      ]
     },
     "execution_count": 4,
     "metadata": {},
     "output_type": "execute_result"
    }
   ],
   "source": [
    "list(params.keys())"
   ]
  },
  {
   "cell_type": "code",
   "execution_count": 5,
   "id": "19f86a16",
   "metadata": {},
   "outputs": [],
   "source": [
    "# We add these to a dataframe with a multikey index\n",
    "outer_index = ['LGB', 'LSTM', 'RF']\n",
    "#inner_index = list(params.keys())\n",
    "tuples = []\n",
    "for outer in outer_index:\n",
    "    params = load_param_json(\"HPP1\", outer, 'wind')\n",
    "    inner_index = list(params.keys())\n",
    "    for inner in inner_index:\n",
    "        tuples.append((outer,inner))\n",
    "        \n",
    "index = pd.MultiIndex.from_tuples(tuples, names=[\"Model\", \"Parameter\"])"
   ]
  },
  {
   "cell_type": "code",
   "execution_count": 6,
   "id": "95132e67",
   "metadata": {
    "scrolled": true
   },
   "outputs": [
    {
     "data": {
      "text/plain": [
       "MultiIndex([( 'LGB',         'max_depth'),\n",
       "            ( 'LGB',  'feature_fraction'),\n",
       "            ( 'LGB',        'num_leaves'),\n",
       "            ( 'LGB',    'num_iterations'),\n",
       "            ('LSTM',        'activation'),\n",
       "            ('LSTM',             'n_lag'),\n",
       "            ('LSTM',            'epochs'),\n",
       "            ('LSTM',        'batch_size'),\n",
       "            ('LSTM',                'lr'),\n",
       "            ('LSTM',        'neurons_l1'),\n",
       "            ('LSTM',        'neurons_l2'),\n",
       "            ('LSTM',        'neurons_l3'),\n",
       "            (  'RF',         'max_depth'),\n",
       "            (  'RF',  'min_samples_leaf'),\n",
       "            (  'RF', 'min_samples_split'),\n",
       "            (  'RF',      'n_estimators')],\n",
       "           names=['Model', 'Parameter'])"
      ]
     },
     "execution_count": 6,
     "metadata": {},
     "output_type": "execute_result"
    }
   ],
   "source": [
    "index"
   ]
  },
  {
   "cell_type": "code",
   "execution_count": 7,
   "id": "23b4efbb",
   "metadata": {},
   "outputs": [
    {
     "data": {
      "text/plain": [
       "[31, 1, 2, 194]"
      ]
     },
     "execution_count": 7,
     "metadata": {},
     "output_type": "execute_result"
    }
   ],
   "source": [
    "list(params.values())"
   ]
  },
  {
   "cell_type": "code",
   "execution_count": 8,
   "id": "43783d07",
   "metadata": {},
   "outputs": [],
   "source": [
    "plants = [\"Nazeerabad\", \"HPP1\", \"HPP2\", \"HPP3\"]\n",
    "models = ['LGB', 'LSTM', 'RF']\n",
    "def build_table(tech):\n",
    "    dict_results = {}\n",
    "    for plant in plants:\n",
    "        param_values = []\n",
    "        for model in models:\n",
    "            params = load_param_json(plant, model, tech)\n",
    "            param_values.append(list(params.values()))\n",
    "            \n",
    "        dict_results[plant] = np.concatenate(param_values)\n",
    "        \n",
    "    table = pd.DataFrame(dict_results, index = index)\n",
    "    return(table)"
   ]
  },
  {
   "cell_type": "code",
   "execution_count": 9,
   "id": "c8a41ee3",
   "metadata": {},
   "outputs": [
    {
     "data": {
      "text/html": [
       "<div>\n",
       "<style scoped>\n",
       "    .dataframe tbody tr th:only-of-type {\n",
       "        vertical-align: middle;\n",
       "    }\n",
       "\n",
       "    .dataframe tbody tr th {\n",
       "        vertical-align: top;\n",
       "    }\n",
       "\n",
       "    .dataframe thead th {\n",
       "        text-align: right;\n",
       "    }\n",
       "</style>\n",
       "<table border=\"1\" class=\"dataframe\">\n",
       "  <thead>\n",
       "    <tr style=\"text-align: right;\">\n",
       "      <th></th>\n",
       "      <th></th>\n",
       "      <th>Nazeerabad</th>\n",
       "      <th>HPP1</th>\n",
       "      <th>HPP2</th>\n",
       "      <th>HPP3</th>\n",
       "    </tr>\n",
       "    <tr>\n",
       "      <th>Model</th>\n",
       "      <th>Parameter</th>\n",
       "      <th></th>\n",
       "      <th></th>\n",
       "      <th></th>\n",
       "      <th></th>\n",
       "    </tr>\n",
       "  </thead>\n",
       "  <tbody>\n",
       "    <tr>\n",
       "      <th rowspan=\"4\" valign=\"top\">LGB</th>\n",
       "      <th>max_depth</th>\n",
       "      <td>8</td>\n",
       "      <td>16.0</td>\n",
       "      <td>5.0</td>\n",
       "      <td>6.0</td>\n",
       "    </tr>\n",
       "    <tr>\n",
       "      <th>feature_fraction</th>\n",
       "      <td>1</td>\n",
       "      <td>0.4</td>\n",
       "      <td>0.2</td>\n",
       "      <td>0.8</td>\n",
       "    </tr>\n",
       "    <tr>\n",
       "      <th>num_leaves</th>\n",
       "      <td>61</td>\n",
       "      <td>4.0</td>\n",
       "      <td>2.0</td>\n",
       "      <td>3.0</td>\n",
       "    </tr>\n",
       "    <tr>\n",
       "      <th>num_iterations</th>\n",
       "      <td>62</td>\n",
       "      <td>423.0</td>\n",
       "      <td>288.0</td>\n",
       "      <td>404.0</td>\n",
       "    </tr>\n",
       "    <tr>\n",
       "      <th rowspan=\"8\" valign=\"top\">LSTM</th>\n",
       "      <th>activation</th>\n",
       "      <td>tanh</td>\n",
       "      <td>tanh</td>\n",
       "      <td>tanh</td>\n",
       "      <td>tanh</td>\n",
       "    </tr>\n",
       "    <tr>\n",
       "      <th>n_lag</th>\n",
       "      <td>144</td>\n",
       "      <td>144</td>\n",
       "      <td>144</td>\n",
       "      <td>144</td>\n",
       "    </tr>\n",
       "    <tr>\n",
       "      <th>epochs</th>\n",
       "      <td>20</td>\n",
       "      <td>20</td>\n",
       "      <td>20</td>\n",
       "      <td>20</td>\n",
       "    </tr>\n",
       "    <tr>\n",
       "      <th>batch_size</th>\n",
       "      <td>1500</td>\n",
       "      <td>1500</td>\n",
       "      <td>1500</td>\n",
       "      <td>1500</td>\n",
       "    </tr>\n",
       "    <tr>\n",
       "      <th>lr</th>\n",
       "      <td>0.01</td>\n",
       "      <td>0.01</td>\n",
       "      <td>0.01</td>\n",
       "      <td>0.01</td>\n",
       "    </tr>\n",
       "    <tr>\n",
       "      <th>neurons_l1</th>\n",
       "      <td>75</td>\n",
       "      <td>125</td>\n",
       "      <td>25</td>\n",
       "      <td>125</td>\n",
       "    </tr>\n",
       "    <tr>\n",
       "      <th>neurons_l2</th>\n",
       "      <td>50</td>\n",
       "      <td>75</td>\n",
       "      <td>50</td>\n",
       "      <td>100</td>\n",
       "    </tr>\n",
       "    <tr>\n",
       "      <th>neurons_l3</th>\n",
       "      <td>50</td>\n",
       "      <td>70</td>\n",
       "      <td>30</td>\n",
       "      <td>30</td>\n",
       "    </tr>\n",
       "    <tr>\n",
       "      <th rowspan=\"4\" valign=\"top\">RF</th>\n",
       "      <th>max_depth</th>\n",
       "      <td>90</td>\n",
       "      <td>31</td>\n",
       "      <td>41</td>\n",
       "      <td>59</td>\n",
       "    </tr>\n",
       "    <tr>\n",
       "      <th>min_samples_leaf</th>\n",
       "      <td>1</td>\n",
       "      <td>1</td>\n",
       "      <td>1</td>\n",
       "      <td>1</td>\n",
       "    </tr>\n",
       "    <tr>\n",
       "      <th>min_samples_split</th>\n",
       "      <td>2</td>\n",
       "      <td>2</td>\n",
       "      <td>2</td>\n",
       "      <td>2</td>\n",
       "    </tr>\n",
       "    <tr>\n",
       "      <th>n_estimators</th>\n",
       "      <td>197</td>\n",
       "      <td>194</td>\n",
       "      <td>27</td>\n",
       "      <td>116</td>\n",
       "    </tr>\n",
       "  </tbody>\n",
       "</table>\n",
       "</div>"
      ],
      "text/plain": [
       "                        Nazeerabad   HPP1   HPP2   HPP3\n",
       "Model Parameter                                        \n",
       "LGB   max_depth                  8   16.0    5.0    6.0\n",
       "      feature_fraction           1    0.4    0.2    0.8\n",
       "      num_leaves                61    4.0    2.0    3.0\n",
       "      num_iterations            62  423.0  288.0  404.0\n",
       "LSTM  activation              tanh   tanh   tanh   tanh\n",
       "      n_lag                    144    144    144    144\n",
       "      epochs                    20     20     20     20\n",
       "      batch_size              1500   1500   1500   1500\n",
       "      lr                      0.01   0.01   0.01   0.01\n",
       "      neurons_l1                75    125     25    125\n",
       "      neurons_l2                50     75     50    100\n",
       "      neurons_l3                50     70     30     30\n",
       "RF    max_depth                 90     31     41     59\n",
       "      min_samples_leaf           1      1      1      1\n",
       "      min_samples_split          2      2      2      2\n",
       "      n_estimators             197    194     27    116"
      ]
     },
     "execution_count": 9,
     "metadata": {},
     "output_type": "execute_result"
    }
   ],
   "source": [
    "table = build_table('wind')\n",
    "table"
   ]
  },
  {
   "cell_type": "code",
   "execution_count": 10,
   "id": "a3fbe69b",
   "metadata": {},
   "outputs": [],
   "source": [
    "path_out_tables = f\"../reports/results/All Plants/Tables\"\n",
    "setup_folders(path_out_tables)"
   ]
  },
  {
   "cell_type": "code",
   "execution_count": 11,
   "id": "bb354f99",
   "metadata": {},
   "outputs": [],
   "source": [
    "for tech in ['wind', 'solar', 'agr']:\n",
    "    table = build_table(tech)\n",
    "    table.to_csv(f\"{path_out_tables}/table_params_{tech}.csv\", sep = \";\")"
   ]
  }
 ],
 "metadata": {
  "kernelspec": {
   "display_name": "Python 3 (ipykernel)",
   "language": "python",
   "name": "python3"
  },
  "language_info": {
   "codemirror_mode": {
    "name": "ipython",
    "version": 3
   },
   "file_extension": ".py",
   "mimetype": "text/x-python",
   "name": "python",
   "nbconvert_exporter": "python",
   "pygments_lexer": "ipython3",
   "version": "3.9.7"
  }
 },
 "nbformat": 4,
 "nbformat_minor": 5
}
