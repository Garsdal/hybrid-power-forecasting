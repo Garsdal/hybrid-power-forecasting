{
 "cells": [
  {
   "cell_type": "code",
   "execution_count": 29,
   "id": "1fdfe479",
   "metadata": {},
   "outputs": [],
   "source": [
    "import pandas as pd\n",
    "pd.options.plotting.backend = \"plotly\"\n",
    "import plotly.express as px\n",
    "import plotly.graph_objects as go\n",
    "from src.utils import setup_folders, return_static_features, return_dynamic_features"
   ]
  },
  {
   "cell_type": "code",
   "execution_count": 30,
   "id": "5dab24ad",
   "metadata": {},
   "outputs": [],
   "source": [
    "df1 = pd.read_csv(\"../../reports/results/HPP3/probabilistic/df_simulation_check_HPP3_RF.csv\", sep = \";\", index_col = [0])\n",
    "df2 = pd.read_csv(\"../../reports/results/HPP3/probabilistic/df_simulation_check_HPP3_RF_v2.csv\", sep = \";\", index_col = [0])\n",
    "df3 = pd.read_csv(\"../../reports/results/HPP3/probabilistic/df_simulation_check_HPP3_RF_v3.csv\", sep = \";\", index_col = [0])"
   ]
  },
  {
   "cell_type": "code",
   "execution_count": 31,
   "id": "d8c08b39",
   "metadata": {},
   "outputs": [
    {
     "data": {
      "text/html": [
       "<div>\n",
       "<style scoped>\n",
       "    .dataframe tbody tr th:only-of-type {\n",
       "        vertical-align: middle;\n",
       "    }\n",
       "\n",
       "    .dataframe tbody tr th {\n",
       "        vertical-align: top;\n",
       "    }\n",
       "\n",
       "    .dataframe thead th {\n",
       "        text-align: right;\n",
       "    }\n",
       "</style>\n",
       "<table border=\"1\" class=\"dataframe\">\n",
       "  <thead>\n",
       "    <tr style=\"text-align: right;\">\n",
       "      <th></th>\n",
       "      <th>max_std_wind</th>\n",
       "      <th>mean_std_wind</th>\n",
       "      <th>max_std_solar</th>\n",
       "      <th>mean_std_solar</th>\n",
       "      <th>max_std_agr</th>\n",
       "      <th>mean_std_agr</th>\n",
       "      <th>max_std_agr_sum</th>\n",
       "      <th>mean_std_agr_sum</th>\n",
       "    </tr>\n",
       "  </thead>\n",
       "  <tbody>\n",
       "    <tr>\n",
       "      <th>1</th>\n",
       "      <td>0.249627</td>\n",
       "      <td>0.234201</td>\n",
       "      <td>0.199392</td>\n",
       "      <td>0.084322</td>\n",
       "      <td>0.122705</td>\n",
       "      <td>0.103732</td>\n",
       "      <td>0.134698</td>\n",
       "      <td>0.113665</td>\n",
       "    </tr>\n",
       "    <tr>\n",
       "      <th>2</th>\n",
       "      <td>0.246935</td>\n",
       "      <td>0.233855</td>\n",
       "      <td>0.198450</td>\n",
       "      <td>0.083854</td>\n",
       "      <td>0.123462</td>\n",
       "      <td>0.102953</td>\n",
       "      <td>0.134736</td>\n",
       "      <td>0.112997</td>\n",
       "    </tr>\n",
       "    <tr>\n",
       "      <th>3</th>\n",
       "      <td>0.244298</td>\n",
       "      <td>0.232323</td>\n",
       "      <td>0.198726</td>\n",
       "      <td>0.084078</td>\n",
       "      <td>0.124353</td>\n",
       "      <td>0.102977</td>\n",
       "      <td>0.134248</td>\n",
       "      <td>0.112546</td>\n",
       "    </tr>\n",
       "    <tr>\n",
       "      <th>4</th>\n",
       "      <td>0.242712</td>\n",
       "      <td>0.231210</td>\n",
       "      <td>0.198410</td>\n",
       "      <td>0.084050</td>\n",
       "      <td>0.124621</td>\n",
       "      <td>0.102864</td>\n",
       "      <td>0.133761</td>\n",
       "      <td>0.112097</td>\n",
       "    </tr>\n",
       "    <tr>\n",
       "      <th>5</th>\n",
       "      <td>0.242019</td>\n",
       "      <td>0.231283</td>\n",
       "      <td>0.198094</td>\n",
       "      <td>0.084002</td>\n",
       "      <td>0.123723</td>\n",
       "      <td>0.102698</td>\n",
       "      <td>0.133738</td>\n",
       "      <td>0.112046</td>\n",
       "    </tr>\n",
       "  </tbody>\n",
       "</table>\n",
       "</div>"
      ],
      "text/plain": [
       "   max_std_wind  mean_std_wind  max_std_solar  mean_std_solar  max_std_agr  \\\n",
       "1      0.249627       0.234201       0.199392        0.084322     0.122705   \n",
       "2      0.246935       0.233855       0.198450        0.083854     0.123462   \n",
       "3      0.244298       0.232323       0.198726        0.084078     0.124353   \n",
       "4      0.242712       0.231210       0.198410        0.084050     0.124621   \n",
       "5      0.242019       0.231283       0.198094        0.084002     0.123723   \n",
       "\n",
       "   mean_std_agr  max_std_agr_sum  mean_std_agr_sum  \n",
       "1      0.103732         0.134698          0.113665  \n",
       "2      0.102953         0.134736          0.112997  \n",
       "3      0.102977         0.134248          0.112546  \n",
       "4      0.102864         0.133761          0.112097  \n",
       "5      0.102698         0.133738          0.112046  "
      ]
     },
     "execution_count": 31,
     "metadata": {},
     "output_type": "execute_result"
    }
   ],
   "source": [
    "df1.head()"
   ]
  },
  {
   "cell_type": "code",
   "execution_count": 32,
   "id": "7a3c76ce",
   "metadata": {},
   "outputs": [
    {
     "data": {
      "text/html": [
       "<div>\n",
       "<style scoped>\n",
       "    .dataframe tbody tr th:only-of-type {\n",
       "        vertical-align: middle;\n",
       "    }\n",
       "\n",
       "    .dataframe tbody tr th {\n",
       "        vertical-align: top;\n",
       "    }\n",
       "\n",
       "    .dataframe thead th {\n",
       "        text-align: right;\n",
       "    }\n",
       "</style>\n",
       "<table border=\"1\" class=\"dataframe\">\n",
       "  <thead>\n",
       "    <tr style=\"text-align: right;\">\n",
       "      <th></th>\n",
       "      <th>max_std_wind</th>\n",
       "      <th>mean_std_wind</th>\n",
       "      <th>max_std_solar</th>\n",
       "      <th>mean_std_solar</th>\n",
       "      <th>max_std_agr</th>\n",
       "      <th>mean_std_agr</th>\n",
       "      <th>max_std_agr_sum</th>\n",
       "      <th>mean_std_agr_sum</th>\n",
       "    </tr>\n",
       "  </thead>\n",
       "  <tbody>\n",
       "    <tr>\n",
       "      <th>10</th>\n",
       "      <td>0.242835</td>\n",
       "      <td>0.232053</td>\n",
       "      <td>0.196573</td>\n",
       "      <td>0.083630</td>\n",
       "      <td>0.123228</td>\n",
       "      <td>0.102783</td>\n",
       "      <td>0.133773</td>\n",
       "      <td>0.112167</td>\n",
       "    </tr>\n",
       "    <tr>\n",
       "      <th>20</th>\n",
       "      <td>0.242662</td>\n",
       "      <td>0.231571</td>\n",
       "      <td>0.199045</td>\n",
       "      <td>0.084021</td>\n",
       "      <td>0.123535</td>\n",
       "      <td>0.103039</td>\n",
       "      <td>0.134719</td>\n",
       "      <td>0.112294</td>\n",
       "    </tr>\n",
       "    <tr>\n",
       "      <th>30</th>\n",
       "      <td>0.242887</td>\n",
       "      <td>0.231922</td>\n",
       "      <td>0.198188</td>\n",
       "      <td>0.083880</td>\n",
       "      <td>0.124022</td>\n",
       "      <td>0.103272</td>\n",
       "      <td>0.134442</td>\n",
       "      <td>0.112367</td>\n",
       "    </tr>\n",
       "    <tr>\n",
       "      <th>40</th>\n",
       "      <td>0.243029</td>\n",
       "      <td>0.232073</td>\n",
       "      <td>0.197840</td>\n",
       "      <td>0.083753</td>\n",
       "      <td>0.124005</td>\n",
       "      <td>0.103285</td>\n",
       "      <td>0.134393</td>\n",
       "      <td>0.112370</td>\n",
       "    </tr>\n",
       "    <tr>\n",
       "      <th>50</th>\n",
       "      <td>0.243059</td>\n",
       "      <td>0.232250</td>\n",
       "      <td>0.197516</td>\n",
       "      <td>0.083663</td>\n",
       "      <td>0.123916</td>\n",
       "      <td>0.103286</td>\n",
       "      <td>0.134424</td>\n",
       "      <td>0.112403</td>\n",
       "    </tr>\n",
       "  </tbody>\n",
       "</table>\n",
       "</div>"
      ],
      "text/plain": [
       "    max_std_wind  mean_std_wind  max_std_solar  mean_std_solar  max_std_agr  \\\n",
       "10      0.242835       0.232053       0.196573        0.083630     0.123228   \n",
       "20      0.242662       0.231571       0.199045        0.084021     0.123535   \n",
       "30      0.242887       0.231922       0.198188        0.083880     0.124022   \n",
       "40      0.243029       0.232073       0.197840        0.083753     0.124005   \n",
       "50      0.243059       0.232250       0.197516        0.083663     0.123916   \n",
       "\n",
       "    mean_std_agr  max_std_agr_sum  mean_std_agr_sum  \n",
       "10      0.102783         0.133773          0.112167  \n",
       "20      0.103039         0.134719          0.112294  \n",
       "30      0.103272         0.134442          0.112367  \n",
       "40      0.103285         0.134393          0.112370  \n",
       "50      0.103286         0.134424          0.112403  "
      ]
     },
     "execution_count": 32,
     "metadata": {},
     "output_type": "execute_result"
    }
   ],
   "source": [
    "df2.head()"
   ]
  },
  {
   "cell_type": "code",
   "execution_count": 33,
   "id": "90495c9d",
   "metadata": {},
   "outputs": [
    {
     "data": {
      "text/html": [
       "<div>\n",
       "<style scoped>\n",
       "    .dataframe tbody tr th:only-of-type {\n",
       "        vertical-align: middle;\n",
       "    }\n",
       "\n",
       "    .dataframe tbody tr th {\n",
       "        vertical-align: top;\n",
       "    }\n",
       "\n",
       "    .dataframe thead th {\n",
       "        text-align: right;\n",
       "    }\n",
       "</style>\n",
       "<table border=\"1\" class=\"dataframe\">\n",
       "  <thead>\n",
       "    <tr style=\"text-align: right;\">\n",
       "      <th></th>\n",
       "      <th>max_std_wind</th>\n",
       "      <th>mean_std_wind</th>\n",
       "      <th>max_std_solar</th>\n",
       "      <th>mean_std_solar</th>\n",
       "      <th>max_std_agr</th>\n",
       "      <th>mean_std_agr</th>\n",
       "      <th>max_std_agr_sum</th>\n",
       "      <th>mean_std_agr_sum</th>\n",
       "    </tr>\n",
       "  </thead>\n",
       "  <tbody>\n",
       "    <tr>\n",
       "      <th>300</th>\n",
       "      <td>0.243635</td>\n",
       "      <td>0.232468</td>\n",
       "      <td>0.197430</td>\n",
       "      <td>0.083680</td>\n",
       "      <td>0.123561</td>\n",
       "      <td>0.103304</td>\n",
       "      <td>0.134419</td>\n",
       "      <td>0.112494</td>\n",
       "    </tr>\n",
       "    <tr>\n",
       "      <th>400</th>\n",
       "      <td>0.243661</td>\n",
       "      <td>0.232506</td>\n",
       "      <td>0.197470</td>\n",
       "      <td>0.083694</td>\n",
       "      <td>0.123638</td>\n",
       "      <td>0.103293</td>\n",
       "      <td>0.134378</td>\n",
       "      <td>0.112504</td>\n",
       "    </tr>\n",
       "    <tr>\n",
       "      <th>500</th>\n",
       "      <td>0.243703</td>\n",
       "      <td>0.232477</td>\n",
       "      <td>0.197539</td>\n",
       "      <td>0.083698</td>\n",
       "      <td>0.123712</td>\n",
       "      <td>0.103284</td>\n",
       "      <td>0.134393</td>\n",
       "      <td>0.112486</td>\n",
       "    </tr>\n",
       "  </tbody>\n",
       "</table>\n",
       "</div>"
      ],
      "text/plain": [
       "     max_std_wind  mean_std_wind  max_std_solar  mean_std_solar  max_std_agr  \\\n",
       "300      0.243635       0.232468       0.197430        0.083680     0.123561   \n",
       "400      0.243661       0.232506       0.197470        0.083694     0.123638   \n",
       "500      0.243703       0.232477       0.197539        0.083698     0.123712   \n",
       "\n",
       "     mean_std_agr  max_std_agr_sum  mean_std_agr_sum  \n",
       "300      0.103304         0.134419          0.112494  \n",
       "400      0.103293         0.134378          0.112504  \n",
       "500      0.103284         0.134393          0.112486  "
      ]
     },
     "execution_count": 33,
     "metadata": {},
     "output_type": "execute_result"
    }
   ],
   "source": [
    "df3.head()"
   ]
  },
  {
   "cell_type": "code",
   "execution_count": 43,
   "id": "718ef6ef",
   "metadata": {},
   "outputs": [],
   "source": [
    "df = pd.concat([df1,df2,df3])\n",
    "df = df.drop_duplicates()"
   ]
  },
  {
   "cell_type": "code",
   "execution_count": 44,
   "id": "e381c65e",
   "metadata": {},
   "outputs": [
    {
     "name": "stdout",
     "output_type": "stream",
     "text": [
      "../../reports/results/All Plants/Simulation/ does not exist... creating\n"
     ]
    }
   ],
   "source": [
    "path_out_sim_check = f\"../../reports/results/All Plants/Simulation/\"\n",
    "setup_folders(path_out_sim_check)"
   ]
  },
  {
   "cell_type": "markdown",
   "id": "18e3cedd",
   "metadata": {},
   "source": [
    "# We plot simulation length check"
   ]
  },
  {
   "cell_type": "code",
   "execution_count": 48,
   "id": "d71fb031",
   "metadata": {},
   "outputs": [],
   "source": [
    "fig = go.Figure()\n",
    "fig.add_trace(go.Scatter(x=df.index, y=df['mean_std_wind'], mode='lines+markers'))\n",
    "fig.update_layout(yaxis_title=\"Mean std horizons\", xaxis_title='Number of simulations')\n",
    "fig.update_layout(font=dict(family=\"Arial\",size=22))\n",
    "fig.write_image(f\"{path_out_sim_check}/sim_check_mean_std_wind.pdf\", width=720, height=720)"
   ]
  },
  {
   "cell_type": "code",
   "execution_count": 49,
   "id": "605ddaef",
   "metadata": {},
   "outputs": [],
   "source": [
    "fig = go.Figure()\n",
    "fig.add_trace(go.Scatter(x=df.index, y=df['mean_std_solar'], mode='lines+markers'))\n",
    "fig.update_layout(yaxis_title=\"Mean std horizons\", xaxis_title='Number of simulations')\n",
    "fig.update_layout(font=dict(family=\"Arial\",size=22))\n",
    "fig.write_image(f\"{path_out_sim_check}/sim_check_mean_std_solar.pdf\", width=720, height=720)"
   ]
  },
  {
   "cell_type": "code",
   "execution_count": 51,
   "id": "5d329c27",
   "metadata": {},
   "outputs": [],
   "source": [
    "fig = go.Figure()\n",
    "fig.add_trace(go.Scatter(x=df.index, y=df['mean_std_agr'], mode='lines+markers'))\n",
    "fig.update_layout(yaxis_title=\"Mean std horizons\", xaxis_title='Number of simulations')\n",
    "fig.update_layout(font=dict(family=\"Arial\",size=22))\n",
    "fig.write_image(f\"{path_out_sim_check}/sim_check_mean_std_agr.pdf\", width=720, height=720)"
   ]
  },
  {
   "cell_type": "code",
   "execution_count": 54,
   "id": "a33e6090",
   "metadata": {
    "scrolled": false
   },
   "outputs": [],
   "source": [
    "fig = go.Figure()\n",
    "fig.add_trace(go.Scatter(x=df.index, y=df['mean_std_agr_sum'], mode='lines+markers'))\n",
    "fig.update_layout(yaxis_title=\"Mean std horizons\", xaxis_title='Number of simulations')\n",
    "fig.update_layout(font=dict(family=\"Arial\",size=22))\n",
    "fig.write_image(f\"{path_out_sim_check}/sim_check_mean_std_agr_sum.pdf\", width=720, height=720)"
   ]
  }
 ],
 "metadata": {
  "kernelspec": {
   "display_name": "Python 3 (ipykernel)",
   "language": "python",
   "name": "python3"
  },
  "language_info": {
   "codemirror_mode": {
    "name": "ipython",
    "version": 3
   },
   "file_extension": ".py",
   "mimetype": "text/x-python",
   "name": "python",
   "nbconvert_exporter": "python",
   "pygments_lexer": "ipython3",
   "version": "3.9.7"
  }
 },
 "nbformat": 4,
 "nbformat_minor": 5
}
