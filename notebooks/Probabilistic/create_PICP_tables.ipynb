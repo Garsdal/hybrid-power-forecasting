{
 "cells": [
  {
   "cell_type": "code",
   "execution_count": 10,
   "id": "b98e2646",
   "metadata": {},
   "outputs": [],
   "source": [
    "import pandas as pd\n",
    "import numpy as np\n",
    "from src.utils import setup_folders, return_static_features, return_dynamic_features\n",
    "from src.visualization.evaluate import calculate_metric_horizons, calculate_metric_horizon_windows, calculate_metric_horizons_all_models\n",
    "from src.visualization.visualize import plot_horizons, plot_scatterplot, plot_test_day, plot_mean_std_error_multiple_models, plot_ridges_multiple_models\n",
    "from src.features.build_features import build_features, build_features_LSTM\n",
    "import json"
   ]
  },
  {
   "cell_type": "code",
   "execution_count": 11,
   "id": "b8fa70b6",
   "metadata": {},
   "outputs": [],
   "source": [
    "def load_PICP_json(plant, model):\n",
    "    # agr\n",
    "    filename = f'../../reports/results/{plant}/probabilistic/distribution_simulation/final/{model}/0.295_0.35/bias_corrected/quantile_PICP_agr.json'\n",
    "    f = open(filename)\n",
    "    PICP_agr = json.load(f)\n",
    "    f.close()\n",
    "\n",
    "    # agr_sum\n",
    "    filename = f'../../reports/results/{plant}/probabilistic/distribution_simulation/final/{model}/0.295_0.35/bias_corrected/quantile_PICP_agr_sum.json'\n",
    "    f = open(filename)\n",
    "    PICP_agr_sum = json.load(f)\n",
    "    f.close()\n",
    "    \n",
    "    return(PICP_agr, PICP_agr_sum)"
   ]
  },
  {
   "cell_type": "code",
   "execution_count": 12,
   "id": "a2a8fe57",
   "metadata": {},
   "outputs": [],
   "source": [
    "PICP_agr, PICP_agr_sum = load_PICP_json(\"HPP1\", \"LSTM\")"
   ]
  },
  {
   "cell_type": "code",
   "execution_count": 17,
   "id": "fdf07625",
   "metadata": {},
   "outputs": [],
   "source": [
    "# We add these to a dataframe with a multikey index\n",
    "outer_index = ['Wind + Solar', 'Aggregated']\n",
    "inner_index = ['LGB', 'LSTM', 'RF']\n",
    "tuples = []\n",
    "for outer in outer_index:\n",
    "    for inner in inner_index:\n",
    "        tuples.append((outer,inner))\n",
    "        \n",
    "index = pd.MultiIndex.from_tuples(tuples, names=[\"Method\", \"Model\"])"
   ]
  },
  {
   "cell_type": "code",
   "execution_count": 33,
   "id": "1c2bcc8a",
   "metadata": {},
   "outputs": [],
   "source": [
    "plants = [\"Nazeerabad\", \"HPP1\", \"HPP2\", \"HPP3\"]\n",
    "models = ['LGB', 'LSTM', 'RF']\n",
    "def build_table(alpha = '0.95'):\n",
    "    dict_results = {}\n",
    "    for plant in plants:\n",
    "        PICPs_agr = []\n",
    "        PICPs_agr_sum = []\n",
    "        for model in models:\n",
    "            PICP_agr, PICP_agr_sum = load_PICP_json(plant, model)\n",
    "            \n",
    "            # Get the confidence level            \n",
    "            PICPs_agr.append(PICP_agr[alpha])\n",
    "            PICPs_agr_sum.append(PICP_agr_sum[alpha])\n",
    "            \n",
    "        # We append the lists\n",
    "        PICPs = PICPs_agr + PICPs_agr_sum\n",
    "        dict_results[plant] = np.round(PICPs,3)\n",
    "        \n",
    "    table = pd.DataFrame(dict_results, index = index)\n",
    "    return(table)"
   ]
  },
  {
   "cell_type": "code",
   "execution_count": 36,
   "id": "e1f64b83",
   "metadata": {},
   "outputs": [
    {
     "data": {
      "text/html": [
       "<div>\n",
       "<style scoped>\n",
       "    .dataframe tbody tr th:only-of-type {\n",
       "        vertical-align: middle;\n",
       "    }\n",
       "\n",
       "    .dataframe tbody tr th {\n",
       "        vertical-align: top;\n",
       "    }\n",
       "\n",
       "    .dataframe thead th {\n",
       "        text-align: right;\n",
       "    }\n",
       "</style>\n",
       "<table border=\"1\" class=\"dataframe\">\n",
       "  <thead>\n",
       "    <tr style=\"text-align: right;\">\n",
       "      <th></th>\n",
       "      <th></th>\n",
       "      <th>Nazeerabad</th>\n",
       "      <th>HPP1</th>\n",
       "      <th>HPP2</th>\n",
       "      <th>HPP3</th>\n",
       "    </tr>\n",
       "    <tr>\n",
       "      <th>Method</th>\n",
       "      <th>Model</th>\n",
       "      <th></th>\n",
       "      <th></th>\n",
       "      <th></th>\n",
       "      <th></th>\n",
       "    </tr>\n",
       "  </thead>\n",
       "  <tbody>\n",
       "    <tr>\n",
       "      <th rowspan=\"3\" valign=\"top\">Wind + Solar</th>\n",
       "      <th>LGB</th>\n",
       "      <td>0.914</td>\n",
       "      <td>0.952</td>\n",
       "      <td>0.914</td>\n",
       "      <td>0.954</td>\n",
       "    </tr>\n",
       "    <tr>\n",
       "      <th>LSTM</th>\n",
       "      <td>0.514</td>\n",
       "      <td>0.874</td>\n",
       "      <td>0.844</td>\n",
       "      <td>0.888</td>\n",
       "    </tr>\n",
       "    <tr>\n",
       "      <th>RF</th>\n",
       "      <td>0.530</td>\n",
       "      <td>0.910</td>\n",
       "      <td>0.886</td>\n",
       "      <td>0.934</td>\n",
       "    </tr>\n",
       "    <tr>\n",
       "      <th rowspan=\"3\" valign=\"top\">Aggregated</th>\n",
       "      <th>LGB</th>\n",
       "      <td>0.935</td>\n",
       "      <td>0.955</td>\n",
       "      <td>0.913</td>\n",
       "      <td>0.954</td>\n",
       "    </tr>\n",
       "    <tr>\n",
       "      <th>LSTM</th>\n",
       "      <td>0.554</td>\n",
       "      <td>0.873</td>\n",
       "      <td>0.839</td>\n",
       "      <td>0.881</td>\n",
       "    </tr>\n",
       "    <tr>\n",
       "      <th>RF</th>\n",
       "      <td>0.586</td>\n",
       "      <td>0.906</td>\n",
       "      <td>0.880</td>\n",
       "      <td>0.933</td>\n",
       "    </tr>\n",
       "  </tbody>\n",
       "</table>\n",
       "</div>"
      ],
      "text/plain": [
       "                    Nazeerabad   HPP1   HPP2   HPP3\n",
       "Method       Model                                 \n",
       "Wind + Solar LGB         0.914  0.952  0.914  0.954\n",
       "             LSTM        0.514  0.874  0.844  0.888\n",
       "             RF          0.530  0.910  0.886  0.934\n",
       "Aggregated   LGB         0.935  0.955  0.913  0.954\n",
       "             LSTM        0.554  0.873  0.839  0.881\n",
       "             RF          0.586  0.906  0.880  0.933"
      ]
     },
     "execution_count": 36,
     "metadata": {},
     "output_type": "execute_result"
    }
   ],
   "source": [
    "table = build_table(alpha = '0.95')\n",
    "table"
   ]
  },
  {
   "cell_type": "code",
   "execution_count": 38,
   "id": "d62bf656",
   "metadata": {},
   "outputs": [],
   "source": [
    "path_out_tables = f\"../../reports/results/All Plants/Tables\"\n",
    "setup_folders(path_out_tables)"
   ]
  },
  {
   "cell_type": "code",
   "execution_count": 40,
   "id": "4e11208d",
   "metadata": {},
   "outputs": [],
   "source": [
    "for alpha in ['0.95', '0.9', '0.75']:\n",
    "    table = build_table(alpha)\n",
    "    table.to_csv(f\"{path_out_tables}/table_PICP_alpha_{alpha}.csv\", sep = \";\")"
   ]
  }
 ],
 "metadata": {
  "kernelspec": {
   "display_name": "Python 3 (ipykernel)",
   "language": "python",
   "name": "python3"
  },
  "language_info": {
   "codemirror_mode": {
    "name": "ipython",
    "version": 3
   },
   "file_extension": ".py",
   "mimetype": "text/x-python",
   "name": "python",
   "nbconvert_exporter": "python",
   "pygments_lexer": "ipython3",
   "version": "3.9.7"
  }
 },
 "nbformat": 4,
 "nbformat_minor": 5
}
