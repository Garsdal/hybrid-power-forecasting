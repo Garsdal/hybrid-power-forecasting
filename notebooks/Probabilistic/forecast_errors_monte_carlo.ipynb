{
 "cells": [
  {
   "cell_type": "code",
   "execution_count": 1,
   "id": "4696e010",
   "metadata": {},
   "outputs": [],
   "source": [
    "import pandas as pd\n",
    "import numpy as np\n",
    "import datetime as datetime\n",
    "from src.utils import setup_folders\n",
    "from src.visualization.evaluate import calculate_metric_horizons, calculate_metric_horizon_windows, calculate_metric_horizons_all_models\n",
    "from src.visualization.visualize import plot_horizons, plot_scatterplot, plot_test_day, plot_mean_std_error_multiple_models\n",
    "from src.features.build_features import build_features, build_features_LSTM\n",
    "\n",
    "pd.options.plotting.backend = \"plotly\"\n",
    "import plotly.express as px\n",
    "import plotly.graph_objects as go\n",
    "from plotly.colors import n_colors"
   ]
  },
  {
   "cell_type": "code",
   "execution_count": 2,
   "id": "a223567f",
   "metadata": {},
   "outputs": [],
   "source": [
    "plant = \"HPP1\"\n",
    "tech = \"agr\"\n",
    "if plant in [\"Nazeerabad\", \"HPP1\", \"HPP2\", \"HPP3\"]:\n",
    "    wind_cap = 1\n",
    "    solar_cap = 1\n",
    "agr_cap = wind_cap + solar_cap"
   ]
  },
  {
   "cell_type": "code",
   "execution_count": 3,
   "id": "60a6dd07",
   "metadata": {},
   "outputs": [
    {
     "ename": "FileNotFoundError",
     "evalue": "[Errno 2] No such file or directory: '../../reports/HPP1_agr_predictions.csv'",
     "output_type": "error",
     "traceback": [
      "\u001b[1;31m---------------------------------------------------------------------------\u001b[0m",
      "\u001b[1;31mFileNotFoundError\u001b[0m                         Traceback (most recent call last)",
      "\u001b[1;32m~\\AppData\\Local\\Temp/ipykernel_31096/2156147467.py\u001b[0m in \u001b[0;36m<module>\u001b[1;34m\u001b[0m\n\u001b[0;32m      1\u001b[0m \u001b[1;31m# We load the predictions\u001b[0m\u001b[1;33m\u001b[0m\u001b[1;33m\u001b[0m\u001b[0m\n\u001b[0;32m      2\u001b[0m \u001b[0mfilename\u001b[0m \u001b[1;33m=\u001b[0m \u001b[1;34mf'../../reports/{plant}_{tech}_predictions.csv'\u001b[0m\u001b[1;33m\u001b[0m\u001b[1;33m\u001b[0m\u001b[0m\n\u001b[1;32m----> 3\u001b[1;33m \u001b[0mdf_preds_agr\u001b[0m \u001b[1;33m=\u001b[0m \u001b[0mpd\u001b[0m\u001b[1;33m.\u001b[0m\u001b[0mread_csv\u001b[0m\u001b[1;33m(\u001b[0m\u001b[0mfilename\u001b[0m\u001b[1;33m,\u001b[0m \u001b[0msep\u001b[0m\u001b[1;33m=\u001b[0m\u001b[1;34m\";\"\u001b[0m\u001b[1;33m,\u001b[0m \u001b[0mindex_col\u001b[0m \u001b[1;33m=\u001b[0m \u001b[1;33m[\u001b[0m\u001b[1;36m0\u001b[0m\u001b[1;33m]\u001b[0m\u001b[1;33m,\u001b[0m \u001b[0mparse_dates\u001b[0m\u001b[1;33m=\u001b[0m\u001b[1;33m[\u001b[0m\u001b[1;36m0\u001b[0m\u001b[1;33m]\u001b[0m\u001b[1;33m)\u001b[0m\u001b[1;33m\u001b[0m\u001b[1;33m\u001b[0m\u001b[0m\n\u001b[0m",
      "\u001b[1;32m~\\Anaconda3\\envs\\env\\lib\\site-packages\\pandas\\util\\_decorators.py\u001b[0m in \u001b[0;36mwrapper\u001b[1;34m(*args, **kwargs)\u001b[0m\n\u001b[0;32m    309\u001b[0m                     \u001b[0mstacklevel\u001b[0m\u001b[1;33m=\u001b[0m\u001b[0mstacklevel\u001b[0m\u001b[1;33m,\u001b[0m\u001b[1;33m\u001b[0m\u001b[1;33m\u001b[0m\u001b[0m\n\u001b[0;32m    310\u001b[0m                 )\n\u001b[1;32m--> 311\u001b[1;33m             \u001b[1;32mreturn\u001b[0m \u001b[0mfunc\u001b[0m\u001b[1;33m(\u001b[0m\u001b[1;33m*\u001b[0m\u001b[0margs\u001b[0m\u001b[1;33m,\u001b[0m \u001b[1;33m**\u001b[0m\u001b[0mkwargs\u001b[0m\u001b[1;33m)\u001b[0m\u001b[1;33m\u001b[0m\u001b[1;33m\u001b[0m\u001b[0m\n\u001b[0m\u001b[0;32m    312\u001b[0m \u001b[1;33m\u001b[0m\u001b[0m\n\u001b[0;32m    313\u001b[0m         \u001b[1;32mreturn\u001b[0m \u001b[0mwrapper\u001b[0m\u001b[1;33m\u001b[0m\u001b[1;33m\u001b[0m\u001b[0m\n",
      "\u001b[1;32m~\\Anaconda3\\envs\\env\\lib\\site-packages\\pandas\\io\\parsers\\readers.py\u001b[0m in \u001b[0;36mread_csv\u001b[1;34m(filepath_or_buffer, sep, delimiter, header, names, index_col, usecols, squeeze, prefix, mangle_dupe_cols, dtype, engine, converters, true_values, false_values, skipinitialspace, skiprows, skipfooter, nrows, na_values, keep_default_na, na_filter, verbose, skip_blank_lines, parse_dates, infer_datetime_format, keep_date_col, date_parser, dayfirst, cache_dates, iterator, chunksize, compression, thousands, decimal, lineterminator, quotechar, quoting, doublequote, escapechar, comment, encoding, encoding_errors, dialect, error_bad_lines, warn_bad_lines, on_bad_lines, delim_whitespace, low_memory, memory_map, float_precision, storage_options)\u001b[0m\n\u001b[0;32m    584\u001b[0m     \u001b[0mkwds\u001b[0m\u001b[1;33m.\u001b[0m\u001b[0mupdate\u001b[0m\u001b[1;33m(\u001b[0m\u001b[0mkwds_defaults\u001b[0m\u001b[1;33m)\u001b[0m\u001b[1;33m\u001b[0m\u001b[1;33m\u001b[0m\u001b[0m\n\u001b[0;32m    585\u001b[0m \u001b[1;33m\u001b[0m\u001b[0m\n\u001b[1;32m--> 586\u001b[1;33m     \u001b[1;32mreturn\u001b[0m \u001b[0m_read\u001b[0m\u001b[1;33m(\u001b[0m\u001b[0mfilepath_or_buffer\u001b[0m\u001b[1;33m,\u001b[0m \u001b[0mkwds\u001b[0m\u001b[1;33m)\u001b[0m\u001b[1;33m\u001b[0m\u001b[1;33m\u001b[0m\u001b[0m\n\u001b[0m\u001b[0;32m    587\u001b[0m \u001b[1;33m\u001b[0m\u001b[0m\n\u001b[0;32m    588\u001b[0m \u001b[1;33m\u001b[0m\u001b[0m\n",
      "\u001b[1;32m~\\Anaconda3\\envs\\env\\lib\\site-packages\\pandas\\io\\parsers\\readers.py\u001b[0m in \u001b[0;36m_read\u001b[1;34m(filepath_or_buffer, kwds)\u001b[0m\n\u001b[0;32m    480\u001b[0m \u001b[1;33m\u001b[0m\u001b[0m\n\u001b[0;32m    481\u001b[0m     \u001b[1;31m# Create the parser.\u001b[0m\u001b[1;33m\u001b[0m\u001b[1;33m\u001b[0m\u001b[0m\n\u001b[1;32m--> 482\u001b[1;33m     \u001b[0mparser\u001b[0m \u001b[1;33m=\u001b[0m \u001b[0mTextFileReader\u001b[0m\u001b[1;33m(\u001b[0m\u001b[0mfilepath_or_buffer\u001b[0m\u001b[1;33m,\u001b[0m \u001b[1;33m**\u001b[0m\u001b[0mkwds\u001b[0m\u001b[1;33m)\u001b[0m\u001b[1;33m\u001b[0m\u001b[1;33m\u001b[0m\u001b[0m\n\u001b[0m\u001b[0;32m    483\u001b[0m \u001b[1;33m\u001b[0m\u001b[0m\n\u001b[0;32m    484\u001b[0m     \u001b[1;32mif\u001b[0m \u001b[0mchunksize\u001b[0m \u001b[1;32mor\u001b[0m \u001b[0miterator\u001b[0m\u001b[1;33m:\u001b[0m\u001b[1;33m\u001b[0m\u001b[1;33m\u001b[0m\u001b[0m\n",
      "\u001b[1;32m~\\Anaconda3\\envs\\env\\lib\\site-packages\\pandas\\io\\parsers\\readers.py\u001b[0m in \u001b[0;36m__init__\u001b[1;34m(self, f, engine, **kwds)\u001b[0m\n\u001b[0;32m    809\u001b[0m             \u001b[0mself\u001b[0m\u001b[1;33m.\u001b[0m\u001b[0moptions\u001b[0m\u001b[1;33m[\u001b[0m\u001b[1;34m\"has_index_names\"\u001b[0m\u001b[1;33m]\u001b[0m \u001b[1;33m=\u001b[0m \u001b[0mkwds\u001b[0m\u001b[1;33m[\u001b[0m\u001b[1;34m\"has_index_names\"\u001b[0m\u001b[1;33m]\u001b[0m\u001b[1;33m\u001b[0m\u001b[1;33m\u001b[0m\u001b[0m\n\u001b[0;32m    810\u001b[0m \u001b[1;33m\u001b[0m\u001b[0m\n\u001b[1;32m--> 811\u001b[1;33m         \u001b[0mself\u001b[0m\u001b[1;33m.\u001b[0m\u001b[0m_engine\u001b[0m \u001b[1;33m=\u001b[0m \u001b[0mself\u001b[0m\u001b[1;33m.\u001b[0m\u001b[0m_make_engine\u001b[0m\u001b[1;33m(\u001b[0m\u001b[0mself\u001b[0m\u001b[1;33m.\u001b[0m\u001b[0mengine\u001b[0m\u001b[1;33m)\u001b[0m\u001b[1;33m\u001b[0m\u001b[1;33m\u001b[0m\u001b[0m\n\u001b[0m\u001b[0;32m    812\u001b[0m \u001b[1;33m\u001b[0m\u001b[0m\n\u001b[0;32m    813\u001b[0m     \u001b[1;32mdef\u001b[0m \u001b[0mclose\u001b[0m\u001b[1;33m(\u001b[0m\u001b[0mself\u001b[0m\u001b[1;33m)\u001b[0m\u001b[1;33m:\u001b[0m\u001b[1;33m\u001b[0m\u001b[1;33m\u001b[0m\u001b[0m\n",
      "\u001b[1;32m~\\Anaconda3\\envs\\env\\lib\\site-packages\\pandas\\io\\parsers\\readers.py\u001b[0m in \u001b[0;36m_make_engine\u001b[1;34m(self, engine)\u001b[0m\n\u001b[0;32m   1038\u001b[0m             )\n\u001b[0;32m   1039\u001b[0m         \u001b[1;31m# error: Too many arguments for \"ParserBase\"\u001b[0m\u001b[1;33m\u001b[0m\u001b[1;33m\u001b[0m\u001b[0m\n\u001b[1;32m-> 1040\u001b[1;33m         \u001b[1;32mreturn\u001b[0m \u001b[0mmapping\u001b[0m\u001b[1;33m[\u001b[0m\u001b[0mengine\u001b[0m\u001b[1;33m]\u001b[0m\u001b[1;33m(\u001b[0m\u001b[0mself\u001b[0m\u001b[1;33m.\u001b[0m\u001b[0mf\u001b[0m\u001b[1;33m,\u001b[0m \u001b[1;33m**\u001b[0m\u001b[0mself\u001b[0m\u001b[1;33m.\u001b[0m\u001b[0moptions\u001b[0m\u001b[1;33m)\u001b[0m  \u001b[1;31m# type: ignore[call-arg]\u001b[0m\u001b[1;33m\u001b[0m\u001b[1;33m\u001b[0m\u001b[0m\n\u001b[0m\u001b[0;32m   1041\u001b[0m \u001b[1;33m\u001b[0m\u001b[0m\n\u001b[0;32m   1042\u001b[0m     \u001b[1;32mdef\u001b[0m \u001b[0m_failover_to_python\u001b[0m\u001b[1;33m(\u001b[0m\u001b[0mself\u001b[0m\u001b[1;33m)\u001b[0m\u001b[1;33m:\u001b[0m\u001b[1;33m\u001b[0m\u001b[1;33m\u001b[0m\u001b[0m\n",
      "\u001b[1;32m~\\Anaconda3\\envs\\env\\lib\\site-packages\\pandas\\io\\parsers\\c_parser_wrapper.py\u001b[0m in \u001b[0;36m__init__\u001b[1;34m(self, src, **kwds)\u001b[0m\n\u001b[0;32m     49\u001b[0m \u001b[1;33m\u001b[0m\u001b[0m\n\u001b[0;32m     50\u001b[0m         \u001b[1;31m# open handles\u001b[0m\u001b[1;33m\u001b[0m\u001b[1;33m\u001b[0m\u001b[0m\n\u001b[1;32m---> 51\u001b[1;33m         \u001b[0mself\u001b[0m\u001b[1;33m.\u001b[0m\u001b[0m_open_handles\u001b[0m\u001b[1;33m(\u001b[0m\u001b[0msrc\u001b[0m\u001b[1;33m,\u001b[0m \u001b[0mkwds\u001b[0m\u001b[1;33m)\u001b[0m\u001b[1;33m\u001b[0m\u001b[1;33m\u001b[0m\u001b[0m\n\u001b[0m\u001b[0;32m     52\u001b[0m         \u001b[1;32massert\u001b[0m \u001b[0mself\u001b[0m\u001b[1;33m.\u001b[0m\u001b[0mhandles\u001b[0m \u001b[1;32mis\u001b[0m \u001b[1;32mnot\u001b[0m \u001b[1;32mNone\u001b[0m\u001b[1;33m\u001b[0m\u001b[1;33m\u001b[0m\u001b[0m\n\u001b[0;32m     53\u001b[0m \u001b[1;33m\u001b[0m\u001b[0m\n",
      "\u001b[1;32m~\\Anaconda3\\envs\\env\\lib\\site-packages\\pandas\\io\\parsers\\base_parser.py\u001b[0m in \u001b[0;36m_open_handles\u001b[1;34m(self, src, kwds)\u001b[0m\n\u001b[0;32m    220\u001b[0m         \u001b[0mLet\u001b[0m \u001b[0mthe\u001b[0m \u001b[0mreaders\u001b[0m \u001b[0mopen\u001b[0m \u001b[0mIOHandles\u001b[0m \u001b[0mafter\u001b[0m \u001b[0mthey\u001b[0m \u001b[0mare\u001b[0m \u001b[0mdone\u001b[0m \u001b[1;32mwith\u001b[0m \u001b[0mtheir\u001b[0m \u001b[0mpotential\u001b[0m \u001b[0mraises\u001b[0m\u001b[1;33m.\u001b[0m\u001b[1;33m\u001b[0m\u001b[1;33m\u001b[0m\u001b[0m\n\u001b[0;32m    221\u001b[0m         \"\"\"\n\u001b[1;32m--> 222\u001b[1;33m         self.handles = get_handle(\n\u001b[0m\u001b[0;32m    223\u001b[0m             \u001b[0msrc\u001b[0m\u001b[1;33m,\u001b[0m\u001b[1;33m\u001b[0m\u001b[1;33m\u001b[0m\u001b[0m\n\u001b[0;32m    224\u001b[0m             \u001b[1;34m\"r\"\u001b[0m\u001b[1;33m,\u001b[0m\u001b[1;33m\u001b[0m\u001b[1;33m\u001b[0m\u001b[0m\n",
      "\u001b[1;32m~\\Anaconda3\\envs\\env\\lib\\site-packages\\pandas\\io\\common.py\u001b[0m in \u001b[0;36mget_handle\u001b[1;34m(path_or_buf, mode, encoding, compression, memory_map, is_text, errors, storage_options)\u001b[0m\n\u001b[0;32m    700\u001b[0m         \u001b[1;32mif\u001b[0m \u001b[0mioargs\u001b[0m\u001b[1;33m.\u001b[0m\u001b[0mencoding\u001b[0m \u001b[1;32mand\u001b[0m \u001b[1;34m\"b\"\u001b[0m \u001b[1;32mnot\u001b[0m \u001b[1;32min\u001b[0m \u001b[0mioargs\u001b[0m\u001b[1;33m.\u001b[0m\u001b[0mmode\u001b[0m\u001b[1;33m:\u001b[0m\u001b[1;33m\u001b[0m\u001b[1;33m\u001b[0m\u001b[0m\n\u001b[0;32m    701\u001b[0m             \u001b[1;31m# Encoding\u001b[0m\u001b[1;33m\u001b[0m\u001b[1;33m\u001b[0m\u001b[0m\n\u001b[1;32m--> 702\u001b[1;33m             handle = open(\n\u001b[0m\u001b[0;32m    703\u001b[0m                 \u001b[0mhandle\u001b[0m\u001b[1;33m,\u001b[0m\u001b[1;33m\u001b[0m\u001b[1;33m\u001b[0m\u001b[0m\n\u001b[0;32m    704\u001b[0m                 \u001b[0mioargs\u001b[0m\u001b[1;33m.\u001b[0m\u001b[0mmode\u001b[0m\u001b[1;33m,\u001b[0m\u001b[1;33m\u001b[0m\u001b[1;33m\u001b[0m\u001b[0m\n",
      "\u001b[1;31mFileNotFoundError\u001b[0m: [Errno 2] No such file or directory: '../../reports/HPP1_agr_predictions.csv'"
     ]
    }
   ],
   "source": [
    "# We load the predictions\n",
    "filename = f'../../reports/{plant}_{tech}_predictions.csv'\n",
    "df_preds_agr = pd.read_csv(filename, sep=\";\", index_col = [0], parse_dates=[0])"
   ]
  },
  {
   "cell_type": "code",
   "execution_count": null,
   "id": "e85c0d66",
   "metadata": {},
   "outputs": [],
   "source": [
    "tech = \"wind\"\n",
    "filename = f'../../reports/{plant}_{tech}_predictions.csv'\n",
    "df_preds_wind = pd.read_csv(filename, sep=\";\", index_col = [0], parse_dates=[0])\n",
    "tech = \"solar\"\n",
    "filename = f'../../reports/{plant}_{tech}_predictions.csv'\n",
    "df_preds_solar = pd.read_csv(filename, sep=\";\", index_col = [0], parse_dates=[0])"
   ]
  },
  {
   "cell_type": "code",
   "execution_count": null,
   "id": "f0c0d568",
   "metadata": {},
   "outputs": [],
   "source": [
    "# I am not sure about this calculation for now\n",
    "df_preds_agr_sum = (df_preds_wind*wind_cap + df_preds_solar*solar_cap) / (agr_cap)\n",
    "df_preds_agr_sum['Horizon'] = df_preds_agr['Horizon']"
   ]
  },
  {
   "cell_type": "code",
   "execution_count": null,
   "id": "3ac12362",
   "metadata": {},
   "outputs": [],
   "source": [
    "df_preds_agr.columns"
   ]
  },
  {
   "cell_type": "markdown",
   "id": "ab31a599",
   "metadata": {},
   "source": [
    "# Monte Carlo simulation"
   ]
  },
  {
   "cell_type": "markdown",
   "id": "deca257c",
   "metadata": {},
   "source": [
    "I have simulated the forecast errors for each horizon based on the standard deviation of the errors, where we make n = 10000 draws from a standard normal distribution. This makes the assumption that the error distributions are normal, however in the previous ridge plot we found that they were close to normal so we will use this assumption for now."
   ]
  },
  {
   "cell_type": "code",
   "execution_count": null,
   "id": "bf81cd2d",
   "metadata": {},
   "outputs": [],
   "source": [
    "def simulate_forecast_error_monte_carlo(df_preds, model, n_sim):\n",
    "    \n",
    "    df_sim = df_preds[[model, 'Y_true', 'Horizon']]\n",
    "    df_sim.loc[:,'residuals'] = df_sim[model] - df_sim['Y_true']\n",
    "    \n",
    "    # We extract the quantiles [10, 25, 50, 75, 90]\n",
    "    dict_quantiles = {0.01: np.array([]),\n",
    "                      0.05: np.array([]),\n",
    "                      0.1: np.array([]), \n",
    "                      0.25: np.array([]), \n",
    "                      0.75: np.array([]), \n",
    "                      0.9: np.array([]),\n",
    "                      0.95: np.array([]),\n",
    "                      0.99: np.array([])}\n",
    "    \n",
    "    dict_sim = {}\n",
    "    for horizon in np.unique(df_sim['Horizon']):\n",
    "        forecast_errors_horizon = df_sim.loc[df_sim['Horizon'] == horizon, 'residuals'].dropna().values\n",
    "        std_forecast_errors_horizon = np.std(forecast_errors_horizon)\n",
    "        \n",
    "        # We simulate using a standard normal distribution N(0,1) such that we assume forecast errors are normal distributed\n",
    "        sim_forecast_errors_horizon = np.random.normal(0, 1, n_sim) * std_forecast_errors_horizon\n",
    "    \n",
    "        # We save the result in a dictionary\n",
    "        dict_sim[horizon] = sim_forecast_errors_horizon\n",
    "        \n",
    "        # We grab the quantiles\n",
    "        for quantile in dict_quantiles.keys():\n",
    "            dict_quantiles[quantile] = np.append(dict_quantiles[quantile], np.quantile(dict_sim[horizon], quantile))\n",
    "            \n",
    "    df_quantiles = pd.DataFrame(dict_quantiles, index = np.unique(df_sim['Horizon']))        \n",
    "    \n",
    "    return(df_quantiles)"
   ]
  },
  {
   "cell_type": "code",
   "execution_count": null,
   "id": "d0a64508",
   "metadata": {
    "scrolled": false
   },
   "outputs": [],
   "source": [
    "def plot_forecast_error_monte_carlo(df, model, n_sim, idx):\n",
    "    forecast_error_quantiles = simulate_forecast_error_monte_carlo(df_preds_agr, model, n_sim)\n",
    "    \n",
    "    # We grab the day we want to plot\n",
    "    df = df[df.columns.drop(['Horizon'])]\n",
    "    df = df.dropna()\n",
    "\n",
    "    forecast_days = df.index[df.index.time == datetime.time(0, 0)].strftime('%Y-%m-%d')\n",
    "    forecast_day = forecast_days[idx]\n",
    "\n",
    "    df_plot = df.loc[forecast_day, [model, 'Y_true']]\n",
    "    \n",
    "    # We update the index of the quantiles to match the datetimes\n",
    "    forecast_error_quantiles.index = df_plot.index\n",
    "    \n",
    "    # Color choices\n",
    "    n_bands = int(len(forecast_error_quantiles.columns)/2)\n",
    "    fill_colors = n_colors('rgb(5, 200, 200)', 'rgb(200, 10, 10)', n_bands, colortype='rgb')\n",
    "    line_colors = px.colors.qualitative.Plotly\n",
    "    \n",
    "    fig = go.Figure()\n",
    "    keys = np.array(forecast_error_quantiles.columns)\n",
    "    for cnt in range(0, n_bands):\n",
    "        color = fill_colors[cnt]\n",
    "\n",
    "        # We plot the bands\n",
    "        fig.add_trace(go.Scatter(x=df_plot.index,\n",
    "                                y=df_plot[model]+forecast_error_quantiles[keys[cnt]],\n",
    "                                mode='lines', \n",
    "                                showlegend = False,\n",
    "                                line=dict(width=0, color=color)))\n",
    "        fig.add_trace(go.Scatter(x=df_plot.index,\n",
    "                                y=df_plot[model]+forecast_error_quantiles[keys[-(cnt+1)]],\n",
    "                                mode='lines', \n",
    "                                fill='tonexty', # fill area between trace0 and trace1\n",
    "                                name=f'{keys[-(cnt+1)]*100} quantile',\n",
    "                                line=dict(width=0, color=color)))\n",
    "\n",
    "    # We plot the deterministic part of the forecast\n",
    "    fig.add_trace(go.Scatter(x=df_plot.index, \n",
    "                            y=df_plot[model],\n",
    "                            mode='lines+markers',\n",
    "                            name=f'{model}',\n",
    "                            line_color='black'))\n",
    "    fig.add_trace(go.Scatter(x=df_plot.index, \n",
    "                            y=df_plot['Y_true'],\n",
    "                            mode='lines+markers',\n",
    "                            name='Y_true',\n",
    "                            line_color=line_colors[1]))\n",
    "    \n",
    "    return(fig)"
   ]
  },
  {
   "cell_type": "code",
   "execution_count": null,
   "id": "4f76d1ff",
   "metadata": {},
   "outputs": [],
   "source": [
    "df_preds_agr"
   ]
  },
  {
   "cell_type": "code",
   "execution_count": null,
   "id": "4772d521",
   "metadata": {
    "scrolled": false
   },
   "outputs": [],
   "source": [
    "plot_forecast_error_monte_carlo(df=df_preds_agr, model='Y_pred_LSTM(full day)', n_sim=10000, idx=21)"
   ]
  },
  {
   "cell_type": "code",
   "execution_count": null,
   "id": "d472e94c",
   "metadata": {},
   "outputs": [],
   "source": [
    "plot_forecast_error_monte_carlo(df=df_preds_agr_sum, model='Y_pred_LSTM(full day)', n_sim=10000, idx=21)"
   ]
  },
  {
   "cell_type": "code",
   "execution_count": null,
   "id": "da593188",
   "metadata": {
    "scrolled": false
   },
   "outputs": [],
   "source": [
    "plot_forecast_error_monte_carlo(df=df_preds_solar, model='Y_pred_LSTM(full day)', n_sim=10000, idx=21)"
   ]
  },
  {
   "cell_type": "code",
   "execution_count": null,
   "id": "eb1d52cd",
   "metadata": {
    "scrolled": true
   },
   "outputs": [],
   "source": [
    "plot_forecast_error_monte_carlo(df=df_preds_wind, model='Y_pred_LSTM(full day)', n_sim=10000, idx=21)"
   ]
  }
 ],
 "metadata": {
  "kernelspec": {
   "display_name": "Python 3 (ipykernel)",
   "language": "python",
   "name": "python3"
  },
  "language_info": {
   "codemirror_mode": {
    "name": "ipython",
    "version": 3
   },
   "file_extension": ".py",
   "mimetype": "text/x-python",
   "name": "python",
   "nbconvert_exporter": "python",
   "pygments_lexer": "ipython3",
   "version": "3.9.7"
  }
 },
 "nbformat": 4,
 "nbformat_minor": 5
}
