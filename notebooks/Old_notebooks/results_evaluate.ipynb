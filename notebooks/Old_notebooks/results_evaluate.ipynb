{
 "cells": [
  {
   "cell_type": "code",
   "execution_count": null,
   "id": "56761663",
   "metadata": {},
   "outputs": [],
   "source": [
    "import pandas as pd\n",
    "import numpy as np\n",
    "from src.utils import setup_folders\n",
    "from src.visualization.evaluate import calculate_metric_horizons, calculate_metric_horizon_windows, calculate_metric_horizons_all_models\n",
    "from src.visualization.visualize import plot_horizons, plot_scatterplot, plot_test_day, plot_mean_std_error_multiple_models\n",
    "from src.features.build_features import build_features, build_features_LSTM"
   ]
  },
  {
   "cell_type": "code",
   "execution_count": null,
   "id": "ecce8295",
   "metadata": {},
   "outputs": [],
   "source": [
    "# change tech for plots here\n",
    "tech = \"wind\""
   ]
  },
  {
   "cell_type": "markdown",
   "id": "50ffd6ae",
   "metadata": {},
   "source": [
    "# Nazeerabad"
   ]
  },
  {
   "cell_type": "code",
   "execution_count": null,
   "id": "ef2715c2",
   "metadata": {},
   "outputs": [],
   "source": [
    "plant = \"Nazeerabad\""
   ]
  },
  {
   "cell_type": "code",
   "execution_count": null,
   "id": "a0e7a0c6",
   "metadata": {},
   "outputs": [],
   "source": [
    "# We plot timeseries of the available data\n",
    "if plant == \"Nazeerabad\":\n",
    "    path = \"../data/processed/Nazeerabad/Hybrid/SCADA_ATM_FC_30min_Hybrid.csv\"\n",
    "    df = pd.read_csv(path, sep = \";\", parse_dates = True, index_col = [0])\n",
    "    \n",
    "    targets = [f'obs_power_{tech}']\n",
    "    features = ['fc_ws_101.8m_4km_NIWE_NEW', 'fc_wdir_101.8m_4km_NIWE_NEW'] \n",
    "    \n",
    "elif plant == \"HPP1\":\n",
    "    path = \"../data/processed/HPP1/HPP1_OBS_METEO_30min.csv\"\n",
    "    df = pd.read_csv(path, sep = \";\", parse_dates = True, index_col = [0])\n",
    "    \n",
    "    targets = [f'power_obs_{tech}']\n",
    "    features = ['WINDSPEED_100m', 'WINDDIR_100m']"
   ]
  },
  {
   "cell_type": "markdown",
   "id": "88eeed3b",
   "metadata": {},
   "source": [
    "# Available data Nazeerabad"
   ]
  },
  {
   "cell_type": "code",
   "execution_count": null,
   "id": "130e0d08",
   "metadata": {
    "scrolled": false
   },
   "outputs": [],
   "source": [
    "fig = df.plot(y = ['obs_power_wind', 'obs_power_solar'])\n",
    "fig.update_layout(title=f\"Available power data {plant}\", xaxis_title=\"Date\", yaxis_title=\"Power (MW)\")\n",
    "fig.write_image(f\"../reports/figures/Meeting 07_03_2022/available_power_{plant}.svg\")"
   ]
  },
  {
   "cell_type": "markdown",
   "id": "03798294",
   "metadata": {},
   "source": [
    "# HPP1"
   ]
  },
  {
   "cell_type": "code",
   "execution_count": null,
   "id": "b0b1cfcc",
   "metadata": {},
   "outputs": [],
   "source": [
    "plant = \"HPP1\""
   ]
  },
  {
   "cell_type": "code",
   "execution_count": null,
   "id": "c040b6de",
   "metadata": {},
   "outputs": [],
   "source": [
    "# We plot timeseries of the available data\n",
    "if plant == \"Nazeerabad\":\n",
    "    path = \"../data/processed/Nazeerabad/Hybrid/SCADA_ATM_FC_30min_Hybrid.csv\"\n",
    "    df = pd.read_csv(path, sep = \";\", parse_dates = True, index_col = [0])\n",
    "    \n",
    "    targets = [f'obs_power_{tech}']\n",
    "    features = ['fc_ws_101.8m_4km_NIWE_NEW', 'fc_wdir_101.8m_4km_NIWE_NEW'] \n",
    "    \n",
    "elif plant == \"HPP1\":\n",
    "    path = \"../data/processed/HPP1/HPP1_OBS_METEO_30min.csv\"\n",
    "    df = pd.read_csv(path, sep = \";\", parse_dates = True, index_col = [0])\n",
    "    \n",
    "    targets = [f'power_obs_{tech}']\n",
    "    features = ['WINDSPEED_100m', 'WINDDIR_100m']"
   ]
  },
  {
   "cell_type": "code",
   "execution_count": null,
   "id": "77b63b2e",
   "metadata": {
    "scrolled": false
   },
   "outputs": [],
   "source": [
    "dt_train, dt_test, X_train, X_test, Xscaler, Y_train, Y_test, Yscaler, horizon_train, horizon_test = build_features(df, features, targets, horizon = None)\n",
    "print(dt_train.shape, dt_test.shape, X_train.shape, X_test.shape, Y_train.shape, Y_test.shape)"
   ]
  },
  {
   "cell_type": "markdown",
   "id": "fa7e8473",
   "metadata": {},
   "source": [
    "# Available data HPP1"
   ]
  },
  {
   "cell_type": "code",
   "execution_count": null,
   "id": "15132993",
   "metadata": {},
   "outputs": [],
   "source": [
    "fig = df.plot(y = ['power_obs_wind', 'power_obs_solar'])\n",
    "fig.update_layout(title=f\"Available power data {plant}\", xaxis_title=\"Date\", yaxis_title=\"Normalized Power\")\n",
    "fig.write_image(f\"../reports/figures/Meeting 07_03_2022/available_power_{plant}.svg\")"
   ]
  },
  {
   "cell_type": "markdown",
   "id": "b611c353",
   "metadata": {},
   "source": [
    "# Train test days"
   ]
  },
  {
   "cell_type": "code",
   "execution_count": null,
   "id": "19eb8946",
   "metadata": {},
   "outputs": [],
   "source": [
    "import plotly.express as px\n",
    "df_merged = pd.concat([pd.DataFrame({'Y_train':Y_train}, index=dt_train), pd.DataFrame({'Y_test':Y_test}, index=dt_test)])\n",
    "dt_range = pd.date_range(df_merged.index[0], df_merged.index[-1], freq='30min')\n",
    "df_padded = pd.DataFrame(index = dt_range).join(df_merged)"
   ]
  },
  {
   "cell_type": "code",
   "execution_count": null,
   "id": "0a93ac23",
   "metadata": {
    "scrolled": false
   },
   "outputs": [],
   "source": [
    "fig = df_padded.plot(y = ['Y_train', 'Y_test'])\n",
    "fig.update_layout(title=f\"Train/test split example {plant}\", xaxis_title=\"Date\", yaxis_title=\"Normalized Power\")\n",
    "fig.write_image(f\"../reports/figures/Meeting 07_03_2022/train_test_{plant}.svg\")"
   ]
  },
  {
   "cell_type": "markdown",
   "id": "e90042d7",
   "metadata": {},
   "source": [
    "# We load independent and hybrid predictions"
   ]
  },
  {
   "cell_type": "code",
   "execution_count": null,
   "id": "af884b3c",
   "metadata": {},
   "outputs": [],
   "source": [
    "hybrid = False\n",
    "# We load the predictions\n",
    "hybrid_bool = 'hybrid' if hybrid else 'independent'\n",
    "filename = f'../reports/{plant}_{hybrid_bool}_{tech}_predictions.csv'\n",
    "df_preds_independent = pd.read_csv(filename, sep=\";\", index_col = [0], parse_dates=[0])\n",
    "\n",
    "hybrid = True\n",
    "# We load the predictions\n",
    "hybrid_bool = 'hybrid' if hybrid else 'independent'\n",
    "filename = f'../reports/{plant}_{hybrid_bool}_{tech}_predictions.csv'\n",
    "df_preds_hybrid = pd.read_csv(filename, sep=\";\", index_col = [0], parse_dates=[0])\n",
    "df_preds_hybrid.columns = [x + \"_hybrid\" for x in df_preds_hybrid.columns]\n",
    "df_preds_hybrid = df_preds_hybrid.drop(['Horizon_hybrid'], axis=1)\n",
    "\n",
    "# We combine the predictions\n",
    "df_preds = pd.concat([df_preds_independent, df_preds_hybrid], axis=1)"
   ]
  },
  {
   "cell_type": "markdown",
   "id": "7d866a7a",
   "metadata": {},
   "source": [
    "# Time series plot of test days independent models"
   ]
  },
  {
   "cell_type": "code",
   "execution_count": null,
   "id": "4528e8ef",
   "metadata": {},
   "outputs": [],
   "source": [
    "if tech == \"wind\":\n",
    "    fig = plot_test_day(df_preds_independent, 100)\n",
    "elif tech == \"solar\":\n",
    "    fig = plot_test_day(df_preds_independent, 31)\n",
    "fig.write_image(f\"../reports/figures/Meeting 07_03_2022/test_day_{plant}_{tech}.svg\")"
   ]
  },
  {
   "cell_type": "markdown",
   "id": "04900b63",
   "metadata": {},
   "source": [
    "# Horizon plot for static models"
   ]
  },
  {
   "cell_type": "code",
   "execution_count": null,
   "id": "643b3a85",
   "metadata": {},
   "outputs": [],
   "source": [
    "fig = plot_horizons(df_preds, 'rmse', ['Y_pred_LR(static)', 'Y_pred_RF(static)', 'Y_pred_LGB(static)'], vline = 12)\n",
    "fig.write_image(f\"../reports/figures/Meeting 07_03_2022/RMSE_horizon_static_{plant}_{tech}.svg\")"
   ]
  },
  {
   "cell_type": "markdown",
   "id": "52cec80f",
   "metadata": {},
   "source": [
    "# Horizon plot for dynamic models"
   ]
  },
  {
   "cell_type": "code",
   "execution_count": null,
   "id": "e127e880",
   "metadata": {
    "scrolled": false
   },
   "outputs": [],
   "source": [
    "if tech == \"wind\":\n",
    "    fig = plot_horizons(df_preds, 'rmse', ['Y_pred_PST', 'Y_pred_LR(dynamic)', 'Y_pred_RF(dynamic)', 'Y_pred_LGB(dynamic)', 'Y_pred_LSTM(recursive)', 'Y_pred_LSTM(full day)'], vline = 12)\n",
    "elif tech == \"solar\":\n",
    "    fig = plot_horizons(df_preds, 'rmse', ['Y_pred_LR(static)', 'Y_pred_LR(dynamic)', 'Y_pred_RF(dynamic)', 'Y_pred_LGB(dynamic)', 'Y_pred_LSTM(recursive)', 'Y_pred_LSTM(full day)'], vline = 12)\n",
    "fig.write_image(f\"../reports/figures/Meeting 07_03_2022/RMSE_horizon_dynamic_{plant}_{tech}.svg\")"
   ]
  },
  {
   "cell_type": "markdown",
   "id": "b01eddf6",
   "metadata": {},
   "source": [
    "# Horizon plot for dynamic + hybrid models"
   ]
  },
  {
   "cell_type": "code",
   "execution_count": null,
   "id": "b3853a3b",
   "metadata": {
    "scrolled": false
   },
   "outputs": [],
   "source": [
    "fig = plot_horizons(df_preds, 'rmse', ['Y_pred_RF(dynamic)', 'Y_pred_RF(dynamic)_hybrid','Y_pred_LSTM(full day)', 'Y_pred_LSTM(full day)_hybrid' ], vline = 12)\n",
    "fig.write_image(f\"../reports/figures/Meeting 07_03_2022/RMSE_horizon_hybrid_{plant}_{tech}.svg\")"
   ]
  },
  {
   "cell_type": "markdown",
   "id": "94e7bb4c",
   "metadata": {},
   "source": [
    "# Mean error + std plots"
   ]
  },
  {
   "cell_type": "code",
   "execution_count": null,
   "id": "cda66c24",
   "metadata": {},
   "outputs": [],
   "source": [
    "fig = plot_mean_std_error_multiple_models(df_preds, ['Y_pred_LSTM(full day)', 'Y_pred_LSTM(full day)_hybrid'], vline = 12)\n",
    "fig.write_image(f\"../reports/figures/Meeting 07_03_2022/Mean_error_horizon_hybrid_{plant}_{tech}.svg\")"
   ]
  },
  {
   "cell_type": "markdown",
   "id": "d588c864",
   "metadata": {},
   "source": [
    "# Matti scatter plot"
   ]
  },
  {
   "cell_type": "code",
   "execution_count": null,
   "id": "b18c205d",
   "metadata": {},
   "outputs": [],
   "source": [
    "df_scatter = pd.concat([pd.DataFrame({'ft1': X_test[:,0], 'ft2': X_test[:,1]}, index = dt_test), df_preds.dropna()], axis = 1)"
   ]
  },
  {
   "cell_type": "code",
   "execution_count": null,
   "id": "c2b17f46",
   "metadata": {},
   "outputs": [],
   "source": [
    "df_scatter.plot.scatter(x = \"ft1\", y = \"Y_pred_RF(static)\")"
   ]
  },
  {
   "cell_type": "code",
   "execution_count": null,
   "id": "3690166f",
   "metadata": {
    "scrolled": false
   },
   "outputs": [],
   "source": [
    "df_scatter.plot.scatter(x = \"ft2\", y = \"Y_pred_RF(static)\")"
   ]
  },
  {
   "cell_type": "markdown",
   "id": "9805cff5",
   "metadata": {},
   "source": [
    "# Create RMSE window tables"
   ]
  },
  {
   "cell_type": "code",
   "execution_count": null,
   "id": "3d82146d",
   "metadata": {},
   "outputs": [],
   "source": [
    "hybrid = True\n",
    "# We load the predictions\n",
    "hybrid_bool = 'hybrid' if hybrid else 'independent'\n",
    "filename = f'../reports/{plant}_{hybrid_bool}_{tech}_predictions.csv'\n",
    "df_preds_hybrid = pd.read_csv(filename, sep=\";\", index_col = [0], parse_dates=[0])"
   ]
  },
  {
   "cell_type": "code",
   "execution_count": null,
   "id": "e49f5626",
   "metadata": {},
   "outputs": [],
   "source": [
    "calculate_metric_horizon_windows(df_preds_independent, 'nrmse', [48]).sort_values(by=[48])"
   ]
  },
  {
   "cell_type": "markdown",
   "id": "f7acdc9a",
   "metadata": {},
   "source": [
    "### Hybrid"
   ]
  },
  {
   "cell_type": "code",
   "execution_count": null,
   "id": "1b22a6d2",
   "metadata": {},
   "outputs": [],
   "source": [
    "calculate_metric_horizon_windows(df_preds_hybrid, 'nrmse', [48]).sort_values(by=[48])"
   ]
  }
 ],
 "metadata": {
  "kernelspec": {
   "display_name": "Python 3 (ipykernel)",
   "language": "python",
   "name": "python3"
  },
  "language_info": {
   "codemirror_mode": {
    "name": "ipython",
    "version": 3
   },
   "file_extension": ".py",
   "mimetype": "text/x-python",
   "name": "python",
   "nbconvert_exporter": "python",
   "pygments_lexer": "ipython3",
   "version": "3.9.7"
  }
 },
 "nbformat": 4,
 "nbformat_minor": 5
}
